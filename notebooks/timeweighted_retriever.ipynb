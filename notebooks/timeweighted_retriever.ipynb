{
 "cells": [
  {
   "cell_type": "code",
   "execution_count": 1,
   "metadata": {},
   "outputs": [
    {
     "name": "stdout",
     "output_type": "stream",
     "text": [
      "c:\\Users\\Auggie\\Projects\\stems-mini-project\\memory\\memory.csv\n"
     ]
    }
   ],
   "source": [
    "import os\n",
    "\n",
    "current_path = os.getcwd()\n",
    "parent_path = os.path.dirname(current_path)\n",
    "mem_file = os.path.join(parent_path, \"memory\\memory.csv\")\n",
    "print(mem_file)"
   ]
  },
  {
   "cell_type": "code",
   "execution_count": 2,
   "metadata": {},
   "outputs": [],
   "source": [
    "import sys\n",
    "sys.path.append(\"..\")"
   ]
  },
  {
   "cell_type": "code",
   "execution_count": 3,
   "metadata": {},
   "outputs": [],
   "source": [
    "from src.time_weighted_retriever import ModTimeWeightedVectorStoreRetriever\n",
    "from src.chroma import EnhancedChroma"
   ]
  },
  {
   "cell_type": "code",
   "execution_count": 4,
   "metadata": {},
   "outputs": [],
   "source": [
    "from langchain.embeddings import VertexAIEmbeddings\n",
    "from langchain.text_splitter import RecursiveCharacterTextSplitter\n",
    "from langchain.document_loaders import DataFrameLoader, CSVLoader\n",
    "from langchain.llms import VertexAI\n",
    "from langchain.agents import initialize_agent, Tool, AgentType\n",
    "from langchain.vectorstores import Chroma\n",
    "from langchain.docstore import InMemoryDocstore\n",
    "from langchain.vectorstores import FAISS\n",
    "from langchain.retrievers import TimeWeightedVectorStoreRetriever\n",
    "import faiss\n",
    "import pandas as pd\n",
    "from datetime import datetime"
   ]
  },
  {
   "cell_type": "code",
   "execution_count": 5,
   "metadata": {},
   "outputs": [
    {
     "name": "stdout",
     "output_type": "stream",
     "text": [
      "Response from Model: The earth is round.\n",
      "\n",
      "The earth is a sphere.\n"
     ]
    }
   ],
   "source": [
    "import os\n",
    "from vertexai.preview.language_models import TextGenerationModel\n",
    "\n",
    "os.environ['GOOGLE_APPLICATION_CREDENTIALS'] = \"../credentials/aiap-14-ds-llm-topic-01-sa.json\"\n",
    "\n",
    "model = TextGenerationModel.from_pretrained(\"text-bison@001\")\n",
    "response = model.predict(\"Is the earth round?\")\n",
    "\n",
    "print(f\"Response from Model: {response.text}\")"
   ]
  },
  {
   "cell_type": "code",
   "execution_count": 6,
   "metadata": {},
   "outputs": [],
   "source": [
    "# Instantiating model\n",
    "llm = VertexAI(model_name=\"text-bison@001\", \n",
    "               max_output_tokens=256, \n",
    "               temperature=0.2)"
   ]
  },
  {
   "cell_type": "code",
   "execution_count": 7,
   "metadata": {},
   "outputs": [],
   "source": [
    "# Document loader\n",
    "loader = CSVLoader(mem_file, metadata_columns=[\"last_accessed_at\", \"created_at\"])\n",
    "docs = loader.load()"
   ]
  },
  {
   "cell_type": "code",
   "execution_count": 8,
   "metadata": {},
   "outputs": [
    {
     "data": {
      "text/plain": [
       "[Document(page_content='observations: A saw B walking by', metadata={'source': 'c:\\\\Users\\\\Auggie\\\\Projects\\\\stems-mini-project\\\\memory\\\\memory.csv', 'row': 0, 'last_accessed_at': '2023-10-11 22:33', 'created_at': '2023-03-03 10:33'}),\n",
       " Document(page_content='observations: B saw A fell down', metadata={'source': 'c:\\\\Users\\\\Auggie\\\\Projects\\\\stems-mini-project\\\\memory\\\\memory.csv', 'row': 1, 'last_accessed_at': '2023-09-11 20:33', 'created_at': '2023-04-03 10:33'}),\n",
       " Document(page_content='observations: A had lunch', metadata={'source': 'c:\\\\Users\\\\Auggie\\\\Projects\\\\stems-mini-project\\\\memory\\\\memory.csv', 'row': 2, 'last_accessed_at': '2023-10-09 14:15', 'created_at': '2023-03-03 12:33'}),\n",
       " Document(page_content='observations: B read a book', metadata={'source': 'c:\\\\Users\\\\Auggie\\\\Projects\\\\stems-mini-project\\\\memory\\\\memory.csv', 'row': 3, 'last_accessed_at': '2023-10-07 16:50', 'created_at': '2023-03-03 13:33'}),\n",
       " Document(page_content='observations: B noticed A was talking on the phone', metadata={'source': 'c:\\\\Users\\\\Auggie\\\\Projects\\\\stems-mini-project\\\\memory\\\\memory.csv', 'row': 4, 'last_accessed_at': '2023-05-08 17:30', 'created_at': '2023-03-03 13:53'}),\n",
       " Document(page_content='observations: A jogged', metadata={'source': 'c:\\\\Users\\\\Auggie\\\\Projects\\\\stems-mini-project\\\\memory\\\\memory.csv', 'row': 5, 'last_accessed_at': '2023-10-10 12:05', 'created_at': '2023-03-03 14:33'}),\n",
       " Document(page_content='observations: B listened to music', metadata={'source': 'c:\\\\Users\\\\Auggie\\\\Projects\\\\stems-mini-project\\\\memory\\\\memory.csv', 'row': 6, 'last_accessed_at': '2023-08-09 19:55', 'created_at': '2023-03-03 15:33'}),\n",
       " Document(page_content='observations: A practiced yoga while B took a nap', metadata={'source': 'c:\\\\Users\\\\Auggie\\\\Projects\\\\stems-mini-project\\\\memory\\\\memory.csv', 'row': 7, 'last_accessed_at': '2023-10-08 18:24', 'created_at': '2023-03-03 16:33'}),\n",
       " Document(page_content='observations: B watched a movie as A did homework', metadata={'source': 'c:\\\\Users\\\\Auggie\\\\Projects\\\\stems-mini-project\\\\memory\\\\memory.csv', 'row': 8, 'last_accessed_at': '2023-07-11 15:34', 'created_at': '2023-03-03 17:33'}),\n",
       " Document(page_content='observations: A cooked dinner, and B played video games', metadata={'source': 'c:\\\\Users\\\\Auggie\\\\Projects\\\\stems-mini-project\\\\memory\\\\memory.csv', 'row': 9, 'last_accessed_at': '2023-05-10 10:10', 'created_at': '2023-03-03 18:33'}),\n",
       " Document(page_content='observations: B danced while A played the guitar', metadata={'source': 'c:\\\\Users\\\\Auggie\\\\Projects\\\\stems-mini-project\\\\memory\\\\memory.csv', 'row': 10, 'last_accessed_at': '2023-09-07 09:12', 'created_at': '2023-03-03 19:33'})]"
      ]
     },
     "execution_count": 8,
     "metadata": {},
     "output_type": "execute_result"
    }
   ],
   "source": [
    "docs"
   ]
  },
  {
   "cell_type": "code",
   "execution_count": 9,
   "metadata": {},
   "outputs": [],
   "source": [
    "# Split documents into chunks\n",
    "text_splitter = RecursiveCharacterTextSplitter(chunk_size=1000, chunk_overlap=100)\n",
    "texts = text_splitter.split_documents(docs)"
   ]
  },
  {
   "cell_type": "code",
   "execution_count": 10,
   "metadata": {},
   "outputs": [],
   "source": [
    "# Instantiating embedder\n",
    "vertex_embeddings = VertexAIEmbeddings()"
   ]
  },
  {
   "cell_type": "code",
   "execution_count": 11,
   "metadata": {},
   "outputs": [],
   "source": [
    "# Store embeddings in Chromadb\n",
    "vectorstore = EnhancedChroma(embedding_function=vertex_embeddings)"
   ]
  },
  {
   "cell_type": "code",
   "execution_count": 15,
   "metadata": {},
   "outputs": [],
   "source": [
    "# Instantiating time-weighted retriever\n",
    "retriever = ModTimeWeightedVectorStoreRetriever(\n",
    "                                            vectorstore=vectorstore, decay_rate=0.99, k=1\n",
    "                                        )"
   ]
  },
  {
   "cell_type": "code",
   "execution_count": 16,
   "metadata": {},
   "outputs": [
    {
     "data": {
      "text/plain": [
       "['b4f5cce8-6968-11ee-b195-8cf8c502c1d1',\n",
       " 'b4f5cce9-6968-11ee-acbf-8cf8c502c1d1',\n",
       " 'b4f5ccea-6968-11ee-88cb-8cf8c502c1d1',\n",
       " 'b4f5cceb-6968-11ee-ac34-8cf8c502c1d1',\n",
       " 'b4f5ccec-6968-11ee-a5d5-8cf8c502c1d1',\n",
       " 'b4f5cced-6968-11ee-8746-8cf8c502c1d1',\n",
       " 'b4f5ccee-6968-11ee-a46b-8cf8c502c1d1',\n",
       " 'b4f5ccef-6968-11ee-a44a-8cf8c502c1d1',\n",
       " 'b4f5ccf0-6968-11ee-8088-8cf8c502c1d1',\n",
       " 'b4f5ccf1-6968-11ee-a229-8cf8c502c1d1',\n",
       " 'b4f5ccf2-6968-11ee-ba5c-8cf8c502c1d1']"
      ]
     },
     "execution_count": 16,
     "metadata": {},
     "output_type": "execute_result"
    }
   ],
   "source": [
    "# Add documents to retriever\n",
    "retriever.add_documents(docs)"
   ]
  },
  {
   "cell_type": "code",
   "execution_count": 17,
   "metadata": {},
   "outputs": [
    {
     "name": "stderr",
     "output_type": "stream",
     "text": [
      "Number of requested results 100 is greater than number of elements in index 22, updating n_results = 22\n"
     ]
    },
    {
     "data": {
      "text/plain": [
       "[Document(page_content='observations: A jogged', metadata={'source': 'c:\\\\Users\\\\Auggie\\\\Projects\\\\stems-mini-project\\\\memory\\\\memory.csv', 'row': 5, 'last_accessed_at': datetime.datetime(2023, 10, 13, 9, 34, 58, 271544), 'created_at': '2023-03-03 14:33', 'buffer_idx': 5})]"
      ]
     },
     "execution_count": 17,
     "metadata": {},
     "output_type": "execute_result"
    }
   ],
   "source": [
    "# Get relevant documents, relevancy is determined by recency and semantic similarity\n",
    "retriever.get_relevant_documents(\"A saw B\")"
   ]
  },
  {
   "cell_type": "markdown",
   "metadata": {},
   "source": [
    "FINALLY GOT IT WORKING!!!"
   ]
  },
  {
   "cell_type": "code",
   "execution_count": null,
   "metadata": {},
   "outputs": [],
   "source": []
  },
  {
   "cell_type": "code",
   "execution_count": null,
   "metadata": {},
   "outputs": [],
   "source": []
  },
  {
   "cell_type": "code",
   "execution_count": null,
   "metadata": {},
   "outputs": [],
   "source": []
  },
  {
   "cell_type": "code",
   "execution_count": null,
   "metadata": {},
   "outputs": [
    {
     "name": "stdout",
     "output_type": "stream",
     "text": [
      "<class 'pandas.core.frame.DataFrame'>\n",
      "RangeIndex: 11 entries, 0 to 10\n",
      "Data columns (total 3 columns):\n",
      " #   Column            Non-Null Count  Dtype         \n",
      "---  ------            --------------  -----         \n",
      " 0   created_at        11 non-null     datetime64[ns]\n",
      " 1   last_accessed_at  11 non-null     datetime64[ns]\n",
      " 2   observations      11 non-null     object        \n",
      "dtypes: datetime64[ns](2), object(1)\n",
      "memory usage: 392.0+ bytes\n"
     ]
    }
   ],
   "source": [
    "df = pd.read_csv(mem_file)\n",
    "df['created_at'] = df['created_at'].apply(lambda x: datetime.strptime(x, '%d/%m/%Y %H:%M'))\n",
    "df['last_accessed_at'] = df['last_accessed_at'].apply(lambda x: datetime.strptime(x, '%d/%m/%Y %H:%M'))\n",
    "df.info()"
   ]
  },
  {
   "cell_type": "code",
   "execution_count": null,
   "metadata": {},
   "outputs": [
    {
     "data": {
      "text/html": [
       "<div>\n",
       "<style scoped>\n",
       "    .dataframe tbody tr th:only-of-type {\n",
       "        vertical-align: middle;\n",
       "    }\n",
       "\n",
       "    .dataframe tbody tr th {\n",
       "        vertical-align: top;\n",
       "    }\n",
       "\n",
       "    .dataframe thead th {\n",
       "        text-align: right;\n",
       "    }\n",
       "</style>\n",
       "<table border=\"1\" class=\"dataframe\">\n",
       "  <thead>\n",
       "    <tr style=\"text-align: right;\">\n",
       "      <th></th>\n",
       "      <th>created_at</th>\n",
       "      <th>last_accessed_at</th>\n",
       "      <th>observations</th>\n",
       "    </tr>\n",
       "  </thead>\n",
       "  <tbody>\n",
       "    <tr>\n",
       "      <th>0</th>\n",
       "      <td>2023-03-03 10:33:00</td>\n",
       "      <td>2023-10-11 22:33:00</td>\n",
       "      <td>A saw B walking by</td>\n",
       "    </tr>\n",
       "    <tr>\n",
       "      <th>1</th>\n",
       "      <td>2023-04-03 10:33:00</td>\n",
       "      <td>2023-09-11 20:33:00</td>\n",
       "      <td>B saw A fell down</td>\n",
       "    </tr>\n",
       "    <tr>\n",
       "      <th>2</th>\n",
       "      <td>2023-03-03 12:33:00</td>\n",
       "      <td>2023-10-09 14:15:00</td>\n",
       "      <td>A had lunch</td>\n",
       "    </tr>\n",
       "    <tr>\n",
       "      <th>3</th>\n",
       "      <td>2023-03-03 13:33:00</td>\n",
       "      <td>2023-10-07 16:50:00</td>\n",
       "      <td>B read a book</td>\n",
       "    </tr>\n",
       "    <tr>\n",
       "      <th>4</th>\n",
       "      <td>2023-03-03 13:53:00</td>\n",
       "      <td>2023-05-08 17:30:00</td>\n",
       "      <td>B noticed A was talking on the phone</td>\n",
       "    </tr>\n",
       "  </tbody>\n",
       "</table>\n",
       "</div>"
      ],
      "text/plain": [
       "           created_at    last_accessed_at  \\\n",
       "0 2023-03-03 10:33:00 2023-10-11 22:33:00   \n",
       "1 2023-04-03 10:33:00 2023-09-11 20:33:00   \n",
       "2 2023-03-03 12:33:00 2023-10-09 14:15:00   \n",
       "3 2023-03-03 13:33:00 2023-10-07 16:50:00   \n",
       "4 2023-03-03 13:53:00 2023-05-08 17:30:00   \n",
       "\n",
       "                           observations  \n",
       "0                    A saw B walking by  \n",
       "1                     B saw A fell down  \n",
       "2                           A had lunch  \n",
       "3                         B read a book  \n",
       "4  B noticed A was talking on the phone  "
      ]
     },
     "execution_count": 21,
     "metadata": {},
     "output_type": "execute_result"
    }
   ],
   "source": [
    "df.head()"
   ]
  },
  {
   "cell_type": "code",
   "execution_count": null,
   "metadata": {},
   "outputs": [],
   "source": [
    "#loader\n",
    "loader = DataFrameLoader(df, page_content_column=\"observations\")\n",
    "docs = loader.load()"
   ]
  },
  {
   "cell_type": "code",
   "execution_count": null,
   "metadata": {},
   "outputs": [
    {
     "data": {
      "text/plain": [
       "[Document(page_content='observations: A saw B walking by', metadata={'source': 'c:\\\\Users\\\\Auggie\\\\Projects\\\\stems-mini-project\\\\memory\\\\memory.csv', 'row': 0, 'last_accessed_at': '0.001', 'created_at': '3/3/2023 10:33'}),\n",
       " Document(page_content='observations: B saw A fell down', metadata={'source': 'c:\\\\Users\\\\Auggie\\\\Projects\\\\stems-mini-project\\\\memory\\\\memory.csv', 'row': 1, 'last_accessed_at': '0.001', 'created_at': '3/4/2023 10:33'}),\n",
       " Document(page_content='observations: A had lunch', metadata={'source': 'c:\\\\Users\\\\Auggie\\\\Projects\\\\stems-mini-project\\\\memory\\\\memory.csv', 'row': 2, 'last_accessed_at': '0.001', 'created_at': '3/3/2023 12:33'}),\n",
       " Document(page_content='observations: B read a book', metadata={'source': 'c:\\\\Users\\\\Auggie\\\\Projects\\\\stems-mini-project\\\\memory\\\\memory.csv', 'row': 3, 'last_accessed_at': '0.001', 'created_at': '3/3/2023 13:33'}),\n",
       " Document(page_content='observations: B noticed A was talking on the phone', metadata={'source': 'c:\\\\Users\\\\Auggie\\\\Projects\\\\stems-mini-project\\\\memory\\\\memory.csv', 'row': 4, 'last_accessed_at': '0.001', 'created_at': '3/3/2023 13:53'}),\n",
       " Document(page_content='observations: A jogged', metadata={'source': 'c:\\\\Users\\\\Auggie\\\\Projects\\\\stems-mini-project\\\\memory\\\\memory.csv', 'row': 5, 'last_accessed_at': '0.001', 'created_at': '3/3/2023 14:33'}),\n",
       " Document(page_content='observations: B listened to music', metadata={'source': 'c:\\\\Users\\\\Auggie\\\\Projects\\\\stems-mini-project\\\\memory\\\\memory.csv', 'row': 6, 'last_accessed_at': '0.001', 'created_at': '3/3/2023 15:33'}),\n",
       " Document(page_content='observations: A practiced yoga while B took a nap', metadata={'source': 'c:\\\\Users\\\\Auggie\\\\Projects\\\\stems-mini-project\\\\memory\\\\memory.csv', 'row': 7, 'last_accessed_at': '0.001', 'created_at': '3/3/2023 16:33'}),\n",
       " Document(page_content='observations: B watched a movie as A did homework', metadata={'source': 'c:\\\\Users\\\\Auggie\\\\Projects\\\\stems-mini-project\\\\memory\\\\memory.csv', 'row': 8, 'last_accessed_at': '0.001', 'created_at': '3/3/2023 17:33'}),\n",
       " Document(page_content='observations: A cooked dinner, and B played video games', metadata={'source': 'c:\\\\Users\\\\Auggie\\\\Projects\\\\stems-mini-project\\\\memory\\\\memory.csv', 'row': 9, 'last_accessed_at': '0.001', 'created_at': '3/3/2023 18:33'}),\n",
       " Document(page_content='observations: B danced while A played the guitar', metadata={'source': 'c:\\\\Users\\\\Auggie\\\\Projects\\\\stems-mini-project\\\\memory\\\\memory.csv', 'row': 10, 'last_accessed_at': '0.001', 'created_at': '3/3/2023 19:33'})]"
      ]
     },
     "execution_count": 31,
     "metadata": {},
     "output_type": "execute_result"
    }
   ],
   "source": [
    "docs"
   ]
  },
  {
   "cell_type": "code",
   "execution_count": null,
   "metadata": {},
   "outputs": [],
   "source": [
    "vectorstore = Chroma.from_documents(texts, vertex_embeddings)"
   ]
  },
  {
   "cell_type": "markdown",
   "metadata": {},
   "source": [
    "**CHROMA don't work with datetime**"
   ]
  },
  {
   "cell_type": "code",
   "execution_count": null,
   "metadata": {},
   "outputs": [],
   "source": [
    "retriever = TimeWeightedVectorStoreRetriever(vectorstore=vectorstore, decay_rate=0.0000001, k=5)"
   ]
  },
  {
   "cell_type": "code",
   "execution_count": null,
   "metadata": {},
   "outputs": [
    {
     "name": "stderr",
     "output_type": "stream",
     "text": [
      "Number of requested results 100 is greater than number of elements in index 22, updating n_results = 22\n"
     ]
    },
    {
     "name": "stdout",
     "output_type": "stream",
     "text": [
      "[]\n"
     ]
    }
   ],
   "source": [
    "print(retriever.get_relevant_documents(\"A saw B\"))"
   ]
  },
  {
   "cell_type": "markdown",
   "metadata": {},
   "source": [
    "**With CSVloader - Returned no results because last_accessed_at is a string instead of a datetime object.**"
   ]
  },
  {
   "cell_type": "code",
   "execution_count": null,
   "metadata": {},
   "outputs": [
    {
     "data": {
      "text/plain": [
       "[Document(page_content='observations: A saw B walking by', metadata={'source': 'c:\\\\Users\\\\Auggie\\\\Projects\\\\stems-mini-project\\\\memory\\\\memory.csv', 'row': 0, 'last_accessed_at': '11/10/2023 22:33', 'created_at': '3/3/2023 10:33'}),\n",
       " Document(page_content='observations: B saw A fell down', metadata={'source': 'c:\\\\Users\\\\Auggie\\\\Projects\\\\stems-mini-project\\\\memory\\\\memory.csv', 'row': 1, 'last_accessed_at': '11/9/2023 20:33', 'created_at': '3/4/2023 10:33'}),\n",
       " Document(page_content='observations: A had lunch', metadata={'source': 'c:\\\\Users\\\\Auggie\\\\Projects\\\\stems-mini-project\\\\memory\\\\memory.csv', 'row': 2, 'last_accessed_at': '9/10/2023 14:15', 'created_at': '3/3/2023 12:33'}),\n",
       " Document(page_content='observations: B read a book', metadata={'source': 'c:\\\\Users\\\\Auggie\\\\Projects\\\\stems-mini-project\\\\memory\\\\memory.csv', 'row': 3, 'last_accessed_at': '7/10/2023 16:50', 'created_at': '3/3/2023 13:33'}),\n",
       " Document(page_content='observations: B noticed A was talking on the phone', metadata={'source': 'c:\\\\Users\\\\Auggie\\\\Projects\\\\stems-mini-project\\\\memory\\\\memory.csv', 'row': 4, 'last_accessed_at': '8/5/2023 17:30', 'created_at': '3/3/2023 13:53'}),\n",
       " Document(page_content='observations: A jogged', metadata={'source': 'c:\\\\Users\\\\Auggie\\\\Projects\\\\stems-mini-project\\\\memory\\\\memory.csv', 'row': 5, 'last_accessed_at': '10/10/2023 12:05', 'created_at': '3/3/2023 14:33'}),\n",
       " Document(page_content='observations: B listened to music', metadata={'source': 'c:\\\\Users\\\\Auggie\\\\Projects\\\\stems-mini-project\\\\memory\\\\memory.csv', 'row': 6, 'last_accessed_at': '9/8/2023 19:55', 'created_at': '3/3/2023 15:33'}),\n",
       " Document(page_content='observations: A practiced yoga while B took a nap', metadata={'source': 'c:\\\\Users\\\\Auggie\\\\Projects\\\\stems-mini-project\\\\memory\\\\memory.csv', 'row': 7, 'last_accessed_at': '8/10/2023 18:24', 'created_at': '3/3/2023 16:33'}),\n",
       " Document(page_content='observations: B watched a movie as A did homework', metadata={'source': 'c:\\\\Users\\\\Auggie\\\\Projects\\\\stems-mini-project\\\\memory\\\\memory.csv', 'row': 8, 'last_accessed_at': '11/7/2023 15:34', 'created_at': '3/3/2023 17:33'}),\n",
       " Document(page_content='observations: A cooked dinner, and B played video games', metadata={'source': 'c:\\\\Users\\\\Auggie\\\\Projects\\\\stems-mini-project\\\\memory\\\\memory.csv', 'row': 9, 'last_accessed_at': '10/5/2023 10:10', 'created_at': '3/3/2023 18:33'}),\n",
       " Document(page_content='observations: B danced while A played the guitar', metadata={'source': 'c:\\\\Users\\\\Auggie\\\\Projects\\\\stems-mini-project\\\\memory\\\\memory.csv', 'row': 10, 'last_accessed_at': '7/9/2023 9:12', 'created_at': '3/3/2023 19:33'})]"
      ]
     },
     "execution_count": 21,
     "metadata": {},
     "output_type": "execute_result"
    }
   ],
   "source": [
    "docs"
   ]
  },
  {
   "cell_type": "code",
   "execution_count": null,
   "metadata": {},
   "outputs": [],
   "source": [
    "# Initialize the vectorstore as empty\n",
    "embedding_size = 1536\n",
    "index = faiss.IndexFlatL2(embedding_size)\n",
    "vectorstore = FAISS(embeddings.embed_query, index, InMemoryDocstore({}), {})\n",
    "retriever = TimeWeightedVectorStoreRetriever(vectorstore=vectorstore, decay_rate=.1, k=1)"
   ]
  },
  {
   "cell_type": "code",
   "execution_count": null,
   "metadata": {},
   "outputs": [
    {
     "ename": "AssertionError",
     "evalue": "",
     "output_type": "error",
     "traceback": [
      "\u001b[1;31m---------------------------------------------------------------------------\u001b[0m",
      "\u001b[1;31mAssertionError\u001b[0m                            Traceback (most recent call last)",
      "\u001b[1;32mc:\\Users\\Auggie\\Projects\\stems-mini-project\\notebooks\\timeweighted_retriever.ipynb Cell 17\u001b[0m line \u001b[0;36m1\n\u001b[1;32m----> <a href='vscode-notebook-cell:/c%3A/Users/Auggie/Projects/stems-mini-project/notebooks/timeweighted_retriever.ipynb#X13sZmlsZQ%3D%3D?line=0'>1</a>\u001b[0m retriever\u001b[39m.\u001b[39;49madd_documents(docs)\n",
      "File \u001b[1;32mc:\\Users\\Auggie\\.conda\\envs\\smp-env\\lib\\site-packages\\langchain\\retrievers\\time_weighted_retriever.py:130\u001b[0m, in \u001b[0;36mTimeWeightedVectorStoreRetriever.add_documents\u001b[1;34m(self, documents, **kwargs)\u001b[0m\n\u001b[0;32m    128\u001b[0m     doc\u001b[39m.\u001b[39mmetadata[\u001b[39m\"\u001b[39m\u001b[39mbuffer_idx\u001b[39m\u001b[39m\"\u001b[39m] \u001b[39m=\u001b[39m \u001b[39mlen\u001b[39m(\u001b[39mself\u001b[39m\u001b[39m.\u001b[39mmemory_stream) \u001b[39m+\u001b[39m i\n\u001b[0;32m    129\u001b[0m \u001b[39mself\u001b[39m\u001b[39m.\u001b[39mmemory_stream\u001b[39m.\u001b[39mextend(dup_docs)\n\u001b[1;32m--> 130\u001b[0m \u001b[39mreturn\u001b[39;00m \u001b[39mself\u001b[39m\u001b[39m.\u001b[39mvectorstore\u001b[39m.\u001b[39madd_documents(dup_docs, \u001b[39m*\u001b[39m\u001b[39m*\u001b[39mkwargs)\n",
      "File \u001b[1;32mc:\\Users\\Auggie\\.conda\\envs\\smp-env\\lib\\site-packages\\langchain\\schema\\vectorstore.py:122\u001b[0m, in \u001b[0;36mVectorStore.add_documents\u001b[1;34m(self, documents, **kwargs)\u001b[0m\n\u001b[0;32m    120\u001b[0m texts \u001b[39m=\u001b[39m [doc\u001b[39m.\u001b[39mpage_content \u001b[39mfor\u001b[39;00m doc \u001b[39min\u001b[39;00m documents]\n\u001b[0;32m    121\u001b[0m metadatas \u001b[39m=\u001b[39m [doc\u001b[39m.\u001b[39mmetadata \u001b[39mfor\u001b[39;00m doc \u001b[39min\u001b[39;00m documents]\n\u001b[1;32m--> 122\u001b[0m \u001b[39mreturn\u001b[39;00m \u001b[39mself\u001b[39m\u001b[39m.\u001b[39madd_texts(texts, metadatas, \u001b[39m*\u001b[39m\u001b[39m*\u001b[39mkwargs)\n",
      "File \u001b[1;32mc:\\Users\\Auggie\\.conda\\envs\\smp-env\\lib\\site-packages\\langchain\\vectorstores\\faiss.py:167\u001b[0m, in \u001b[0;36mFAISS.add_texts\u001b[1;34m(self, texts, metadatas, ids, **kwargs)\u001b[0m\n\u001b[0;32m    156\u001b[0m \u001b[39m\u001b[39m\u001b[39m\"\"\"Run more texts through the embeddings and add to the vectorstore.\u001b[39;00m\n\u001b[0;32m    157\u001b[0m \n\u001b[0;32m    158\u001b[0m \u001b[39mArgs:\u001b[39;00m\n\u001b[1;32m   (...)\u001b[0m\n\u001b[0;32m    164\u001b[0m \u001b[39m    List of ids from adding the texts into the vectorstore.\u001b[39;00m\n\u001b[0;32m    165\u001b[0m \u001b[39m\"\"\"\u001b[39;00m\n\u001b[0;32m    166\u001b[0m embeddings \u001b[39m=\u001b[39m [\u001b[39mself\u001b[39m\u001b[39m.\u001b[39membedding_function(text) \u001b[39mfor\u001b[39;00m text \u001b[39min\u001b[39;00m texts]\n\u001b[1;32m--> 167\u001b[0m \u001b[39mreturn\u001b[39;00m \u001b[39mself\u001b[39;49m\u001b[39m.\u001b[39;49m__add(texts, embeddings, metadatas\u001b[39m=\u001b[39;49mmetadatas, ids\u001b[39m=\u001b[39;49mids)\n",
      "File \u001b[1;32mc:\\Users\\Auggie\\.conda\\envs\\smp-env\\lib\\site-packages\\langchain\\vectorstores\\faiss.py:139\u001b[0m, in \u001b[0;36mFAISS.__add\u001b[1;34m(self, texts, embeddings, metadatas, ids)\u001b[0m\n\u001b[0;32m    137\u001b[0m \u001b[39mif\u001b[39;00m \u001b[39mself\u001b[39m\u001b[39m.\u001b[39m_normalize_L2:\n\u001b[0;32m    138\u001b[0m     faiss\u001b[39m.\u001b[39mnormalize_L2(vector)\n\u001b[1;32m--> 139\u001b[0m \u001b[39mself\u001b[39;49m\u001b[39m.\u001b[39;49mindex\u001b[39m.\u001b[39;49madd(vector)\n\u001b[0;32m    141\u001b[0m \u001b[39m# Add information to docstore and index.\u001b[39;00m\n\u001b[0;32m    142\u001b[0m ids \u001b[39m=\u001b[39m ids \u001b[39mor\u001b[39;00m [\u001b[39mstr\u001b[39m(uuid\u001b[39m.\u001b[39muuid4()) \u001b[39mfor\u001b[39;00m _ \u001b[39min\u001b[39;00m texts]\n",
      "File \u001b[1;32mc:\\Users\\Auggie\\.conda\\envs\\smp-env\\lib\\site-packages\\faiss\\class_wrappers.py:228\u001b[0m, in \u001b[0;36mhandle_Index.<locals>.replacement_add\u001b[1;34m(self, x)\u001b[0m\n\u001b[0;32m    215\u001b[0m \u001b[39m\u001b[39m\u001b[39m\"\"\"Adds vectors to the index.\u001b[39;00m\n\u001b[0;32m    216\u001b[0m \u001b[39mThe index must be trained before vectors can be added to it.\u001b[39;00m\n\u001b[0;32m    217\u001b[0m \u001b[39mThe vectors are implicitly numbered in sequence. When `n` vectors are\u001b[39;00m\n\u001b[1;32m   (...)\u001b[0m\n\u001b[0;32m    224\u001b[0m \u001b[39m    `dtype` must be float32.\u001b[39;00m\n\u001b[0;32m    225\u001b[0m \u001b[39m\"\"\"\u001b[39;00m\n\u001b[0;32m    227\u001b[0m n, d \u001b[39m=\u001b[39m x\u001b[39m.\u001b[39mshape\n\u001b[1;32m--> 228\u001b[0m \u001b[39massert\u001b[39;00m d \u001b[39m==\u001b[39m \u001b[39mself\u001b[39m\u001b[39m.\u001b[39md\n\u001b[0;32m    229\u001b[0m x \u001b[39m=\u001b[39m np\u001b[39m.\u001b[39mascontiguousarray(x, dtype\u001b[39m=\u001b[39m\u001b[39m'\u001b[39m\u001b[39mfloat32\u001b[39m\u001b[39m'\u001b[39m)\n\u001b[0;32m    230\u001b[0m \u001b[39mself\u001b[39m\u001b[39m.\u001b[39madd_c(n, swig_ptr(x))\n",
      "\u001b[1;31mAssertionError\u001b[0m: "
     ]
    }
   ],
   "source": [
    "retriever.add_documents(docs)"
   ]
  },
  {
   "cell_type": "code",
   "execution_count": null,
   "metadata": {},
   "outputs": [],
   "source": [
    "index = Chroma(embedding_function=vertex_embeddings, persist_directory='db')"
   ]
  }
 ],
 "metadata": {
  "kernelspec": {
   "display_name": "smp-env",
   "language": "python",
   "name": "python3"
  },
  "language_info": {
   "codemirror_mode": {
    "name": "ipython",
    "version": 3
   },
   "file_extension": ".py",
   "mimetype": "text/x-python",
   "name": "python",
   "nbconvert_exporter": "python",
   "pygments_lexer": "ipython3",
   "version": "3.10.11"
  }
 },
 "nbformat": 4,
 "nbformat_minor": 2
}
