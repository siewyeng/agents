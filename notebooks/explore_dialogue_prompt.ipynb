{
 "cells": [
  {
   "cell_type": "code",
   "execution_count": null,
   "metadata": {},
   "outputs": [],
   "source": [
    "!pip install langchain[all]"
   ]
  },
  {
   "cell_type": "code",
   "execution_count": 1,
   "metadata": {},
   "outputs": [],
   "source": [
    "import os\n",
    "import time # For delay\n",
    "# from vertexai.preview.language_models import TextGenerationModel\n",
    "from langchain.llms import VertexAI\n",
    "import pandas as pd\n",
    "import sys\n",
    "\n",
    "\n",
    "os.environ['GOOGLE_APPLICATION_CREDENTIALS'] = '/home/aiap/Documents/AIAP/all-assignments/assignment7/.env/aiap-14-ds-llm-topic-01-sa.json'\n",
    "\n"
   ]
  },
  {
   "cell_type": "code",
   "execution_count": 34,
   "metadata": {},
   "outputs": [],
   "source": [
    "\n",
    "\n",
    "\n",
    "llm = VertexAI(model_name='text-bison@001', max_output_tokens=300, temperature=0)\n",
    "\n",
    "# data = {'agent': [], 'dialogue': []}\n",
    "agent_dia_df = pd.DataFrame(columns=['agent', 'dialogue'])\n",
    "\n",
    "\n",
    "# prompt = 'Background A: You are an alien who is deeply interested in Earth. After spending the last 50 years studying various human languages,\\\n",
    "#     you are now an expert in English and can converse very well. You have finally come to Earth a few weeks ago. You like spending your time\\\n",
    "#     immersing yourself in different cultures and finding out about humans but you also know that humans would not take it well if they knew \\\n",
    "#     you were an alien so you have to keep it a secret. \\\n",
    "#     \\\n",
    "#     \\\n",
    "#     Personality : Curious, Enthusiastic, Paranoid \\\n",
    "#     Status: You see John\\\n",
    "#     Observation: John is mowing the lawn\\\n",
    "#     Question: What will you say to John?\\\n",
    "#     \\\n",
    "#     \\\n",
    "#     '\n",
    "\n",
    "\n",
    "# replya = llm(prompt)\n",
    "# print(replya)"
   ]
  },
  {
   "cell_type": "code",
   "execution_count": 40,
   "metadata": {},
   "outputs": [
    {
     "name": "stdout",
     "output_type": "stream",
     "text": [
      "Hello, I am new to this area. Can you tell me what this machine is that you are using?\n"
     ]
    }
   ],
   "source": [
    "def dialogue_agent1(llm, agent_dia_df):\n",
    "    \"\"\"\n",
    "    Generate a dialogue\n",
    "\n",
    "    Args:\n",
    "        llm ([type]): [description]\n",
    "    \"\"\"\n",
    "\n",
    "\n",
    "    prompt = 'Background A: You are an alien who is deeply interested in Earth. After spending the last 50 years studying various human languages,\\\n",
    "        you are now an expert in English and can converse very well. You have finally come to Earth a few weeks ago. You like spending your time\\\n",
    "        immersing yourself in different cultures and finding out about humans but you also know that humans would not take it well if they knew \\\n",
    "        you were an alien so you have to keep it a secret. \\\n",
    "        \\\n",
    "        \\\n",
    "        Personality : Curious, Enthusiastic, Paranoid \\\n",
    "        Status: You saw a person and approach him\\\n",
    "        Observation: He is mowing the lawn\\\n",
    "        Question: What will you say to the person?\\\n",
    "        Reply only what you will say to the person\\\n",
    "        \\\n",
    "        \\\n",
    "        '\n",
    "    reply = llm(prompt)\n",
    "\n",
    "    new_row = pd.DataFrame({'agent': ['agent1'], 'dialogue': [reply]})\n",
    "    agent_dia_df = pd.concat([agent_dia_df, new_row], ignore_index=True)\n",
    "    print(reply)\n",
    "    return(reply, agent_dia_df)\n",
    "\n",
    "\n",
    "agent1_ai, agent_dia_df=dialogue_agent1(llm, agent_dia_df) "
   ]
  },
  {
   "cell_type": "code",
   "execution_count": 41,
   "metadata": {},
   "outputs": [
    {
     "data": {
      "text/html": [
       "<div>\n",
       "<style scoped>\n",
       "    .dataframe tbody tr th:only-of-type {\n",
       "        vertical-align: middle;\n",
       "    }\n",
       "\n",
       "    .dataframe tbody tr th {\n",
       "        vertical-align: top;\n",
       "    }\n",
       "\n",
       "    .dataframe thead th {\n",
       "        text-align: right;\n",
       "    }\n",
       "</style>\n",
       "<table border=\"1\" class=\"dataframe\">\n",
       "  <thead>\n",
       "    <tr style=\"text-align: right;\">\n",
       "      <th></th>\n",
       "      <th>agent</th>\n",
       "      <th>dialogue</th>\n",
       "    </tr>\n",
       "  </thead>\n",
       "  <tbody>\n",
       "    <tr>\n",
       "      <th>0</th>\n",
       "      <td>agent1</td>\n",
       "      <td>Hello, I am new to this area. Can you tell me ...</td>\n",
       "    </tr>\n",
       "  </tbody>\n",
       "</table>\n",
       "</div>"
      ],
      "text/plain": [
       "    agent                                           dialogue\n",
       "0  agent1  Hello, I am new to this area. Can you tell me ..."
      ]
     },
     "execution_count": 41,
     "metadata": {},
     "output_type": "execute_result"
    }
   ],
   "source": [
    "agent_dia_df.head()"
   ]
  },
  {
   "cell_type": "code",
   "execution_count": 29,
   "metadata": {},
   "outputs": [
    {
     "name": "stdout",
     "output_type": "stream",
     "text": [
      "I am not the best person to ask. I am a bit of a loner and I don't really get out much. But I can tell you that there is a grocery store about a mile down the road.\n"
     ]
    }
   ],
   "source": [
    "llm = VertexAI(model_name='text-bison@001', max_output_tokens=300, temperature=0)\n",
    "\n",
    "# prompt = 'Background A: You are John. \\\n",
    "#     Personality : Eccentric, Proud, Intelligent \\\n",
    "#     Status: You are mowing the lawn\\\n",
    "#     Observation: A stranger approaches you\\\n",
    "#     You heard: Hello, I am new to this neighborhood. I am looking for a place to buy some groceries. Can you tell me where the nearest grocery store is? \\\n",
    "#     What will you reply?\\\n",
    "#     \\\n",
    "#     \\\n",
    "#     \\\n",
    "#     '\n",
    "\n",
    "prompt = f'Background A: You are John. \\\n",
    "    Personality : Eccentric, Proud, Intelligent \\\n",
    "    Status: You are mowing the lawn\\\n",
    "    Observation: A stranger approaches you\\\n",
    "    You heard: {replya}\\\n",
    "    What will you reply?\\\n",
    "    \\\n",
    "    \\\n",
    "    \\\n",
    "    '\n",
    "\n",
    "\n",
    "# print(prompt)\n",
    "\n",
    "replyb = llm(prompt)\n",
    "print(replyb)"
   ]
  },
  {
   "cell_type": "code",
   "execution_count": 22,
   "metadata": {},
   "outputs": [
    {
     "name": "stdout",
     "output_type": "stream",
     "text": [
      "Hello there! I am John, and I live in this neighborhood. I am happy to help you find the nearest grocery store. It is located on the corner of Main Street and Elm Street. It is a small grocery store, but it has everything you need.\n"
     ]
    }
   ],
   "source": [
    "llm = VertexAI(model_name='text-bison@001', max_output_tokens=300, temperature=0.2)\n",
    "\n",
    "\n",
    "prompt = 'Background A: You are John. \\\n",
    "    Personality : Eccentric, Friendy, Intelligent \\\n",
    "    Status: You are mowing the lawn\\\n",
    "    Observation: A stranger approaches you\\\n",
    "    You heard: Hello, I am new to this neighborhood. I am looking for a place to buy some groceries. Can you tell me where the nearest grocery store is? \\\n",
    "    What will you reply?\\\n",
    "    Do not repeat what you heard\\\n",
    "    \\\n",
    "    \\\n",
    "    '\n",
    "\n",
    "\n",
    "reply = llm(prompt)\n",
    "print(reply)"
   ]
  },
  {
   "cell_type": "markdown",
   "metadata": {},
   "source": [
    "Plan schedule prompt testing"
   ]
  },
  {
   "cell_type": "code",
   "execution_count": 18,
   "metadata": {},
   "outputs": [],
   "source": [
    "prompt = \"You are a plan generating AI, and your job is to help characters make new plans based on new information.\\\n",
    "    Given the character's info(bio, goals), generate a new set of plans of the day for them to carry out, such that the final\\\n",
    "    set of plans and include at least 10 individual plans. The plan\\\n",
    "    list should be numbered in the order in which they should be performed, with each plan containing a description\\\n",
    "    with at least 10 words and never use the word /'repeat/'\\\n",
    "    Example plan: ['Plan to take dinner with my spouse at home']\\\n",
    "    \\\n",
    "    Always prioritize finishing any pending conversation before doing other things.\\\n",
    "    Let\\'s Begin!\\\n",
    "    Name: Joel\\\n",
    "    Bio: A 40 yrs old male stock broker. Previously worked in a bank. He is married and does not have any kids \\\n",
    "    He goes home to have dinner every evening\\\n",
    "    \\\n",
    "    \""
   ]
  },
  {
   "cell_type": "code",
   "execution_count": null,
   "metadata": {},
   "outputs": [],
   "source": [
    "llm = VertexAI(model_name='text-bison@001', max_output_tokens=500, temperature=0.5)\n",
    "replyb = llm(prompt)\n",
    "print(replyb)"
   ]
  },
  {
   "cell_type": "code",
   "execution_count": 2,
   "metadata": {},
   "outputs": [],
   "source": [
    "sys.path.append(\"..\")\n",
    "from src.utils.generate_schedule import Generate_Schedule\n",
    "\n",
    "%load_ext autoreload\n",
    "%autoreload 2"
   ]
  },
  {
   "cell_type": "code",
   "execution_count": 22,
   "metadata": {},
   "outputs": [
    {
     "name": "stdout",
     "output_type": "stream",
     "text": [
      "1. Plan to take a shower in the morning at home.\n",
      "2. Plan to get ready for work in the morning at home.\n",
      "3. Plan to have breakfast with my spouse at home.\n",
      "4. Plan to go to work by car.\n",
      "5. Plan to finish the pending report in the office.\n",
      "6. Plan to discuss the new project with my team in the office.\n",
      "7. Plan to go for a walk with my dog after work.\n",
      "8. Plan to have dinner with my spouse at home.\n",
      "9. Plan to do some gardening with my spouse in the garden.\n",
      "10. Plan to fix the faulty appliances at home.\n",
      "11. Plan to relax and watch TV at home.\n",
      "12. Plan to go to bed at 10:30 PM.\n",
      "13. Plan to wake up at 6:30 AM.\n",
      "14. Plan to review the plans for the next day in bed before going to sleep.\n",
      "15. Plan to evaluate the plans for the day at the end of the day.\n"
     ]
    }
   ],
   "source": [
    "gen_sch = Generate_Schedule()\n",
    "\n",
    "\n",
    "name = 'Joel'\n",
    "bio = 'A 40 yrs old male stock broker. Previously worked in a bank. He is married and have any kids\\\n",
    "       He goes home to have dinner every evening. He has a garden and often does gardening with his spouse.\\\n",
    "       He often walk the dog, repair the faulty appliances during his free time at home'\n",
    "\n",
    "print(gen_sch.generated_schedule(name=name,bio=bio))"
   ]
  }
 ],
 "metadata": {
  "kernelspec": {
   "display_name": "nlp",
   "language": "python",
   "name": "python3"
  },
  "language_info": {
   "codemirror_mode": {
    "name": "ipython",
    "version": 3
   },
   "file_extension": ".py",
   "mimetype": "text/x-python",
   "name": "python",
   "nbconvert_exporter": "python",
   "pygments_lexer": "ipython3",
   "version": "3.11.5"
  }
 },
 "nbformat": 4,
 "nbformat_minor": 2
}
